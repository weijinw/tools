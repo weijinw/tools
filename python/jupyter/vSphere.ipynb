{
 "cells": [
  {
   "cell_type": "markdown",
   "metadata": {},
   "source": [
    "Connect to vCenter Server\n",
    "===\n",
    "\n",
    "- Connect to vCenter\n",
    "- Load the content"
   ]
  },
  {
   "cell_type": "code",
   "execution_count": 37,
   "metadata": {
    "collapsed": false
   },
   "outputs": [
    {
     "name": "stdout",
     "output_type": "stream",
     "text": [
      "Find 83 vms\nFind 5 datastores\n\t4 of them are accessible\nFind 1 hosts:\n\tdr_cluster\n"
     ]
    }
   ],
   "source": [
    "import config\n",
    "import vsphere_client as vsphere\n",
    "\n",
    "# vc-39\n",
    "# vc-169 - with a 5.5 ESXi host\n",
    "# vc-drteam\n",
    "conf = config.load_yml_conf(\n",
    "    '/Users/weijin.wang/ws/.secrets/appflows.yml', 'vc-39')\n",
    "\n",
    "vcc = vsphere.VSphereClient(\n",
    "    hostname=conf['url'],\n",
    "    username=conf['username'],\n",
    "    password=conf['password']\n",
    ")\n",
    "\n",
    "_vms = vcc.list_vms()\n",
    "print('Find {} vms'.format(len(_vms)))\n",
    "\n",
    "_datastores = vcc.list_objects_by_type(vsphere.VIM_DATA_STORE)\n",
    "print('Find {} datastores'.format(len(_datastores)))\n",
    "_accessible_datastores = [ds for ds in _datastores if ds.summary.accessible]\n",
    "print('\\t{} of them are accessible'.format(len(_accessible_datastores)))\n",
    "\n",
    "_hosts = vcc.list_objects_by_type(vsphere.VIM_HOST)\n",
    "print('Find {} hosts:'.format(len(_hosts)))\n",
    "for host in _hosts:\n",
    "    print('\\t{}'.format(host.name))\n",
    "\n"
   ]
  },
  {
   "cell_type": "code",
   "execution_count": 21,
   "metadata": {
    "collapsed": false
   },
   "outputs": [
    {
     "name": "stdout",
     "output_type": "stream",
     "text": [
      "find 88 vms\nRubrik_Managed_autotest-prem--20200310-114022-121564 03-10 11:54\nRubrik_Managed_april-06 03-14 23:47\nRubrik_Managed_autotest-prem--20200306-110653-471360 03-12 10:49\napril-07\nRubrik_Managed_autotest-prem--20200312-155133-771679 03-12 16:05\nRubrik_Managed_april-06 02-28 14:49\n"
     ]
    },
    {
     "name": "stdout",
     "output_type": "stream",
     "text": [
      "april-static-03\nCentos6-7-2disk\napril-win-01\napril-onprem-10\nDeprecated demo-vm-03 02-29 04:05\nautotest-prem--20200310-111910-418623-test 03-13 17:10\n"
     ]
    },
    {
     "name": "stdout",
     "output_type": "stream",
     "text": [
      "Deprecated april-06 02-28 22:28\nDeprecated april-03 02-27 23:11\nrohit-centos-6-10-2disk\nautotest-prem--20200305-173708-385643\napril-static-04\nRubrik_Managed_april-onprem-02 02-14 14:32 02-14 16:52\napril-onprem-04\napril-onprem-09\napril-onprem-06\n"
     ]
    },
    {
     "name": "stdout",
     "output_type": "stream",
     "text": [
      "april-cent7-nocloudinit\nDeprecated april-onprem-02 02-27 22:59\nhilary-2-test-vm\nwin_server_2012r2_20gb_4mem_1cpu\nrohit-rhel-6-10-2disks\napril-03\nDeprecated demo-vm-05 03-02 19:44\nRubrik_Managed_april-onprem-02 02-20 11:51 02-22 21:03\nCentos-7-0-template\ndemo-vm-01\napril-onprem-02\napril-static-01\n"
     ]
    },
    {
     "name": "stdout",
     "output_type": "stream",
     "text": [
      "Rubrik_Managed_april-12 03-15 00:29\nRubrik_Managed_autotest-prem--20200312-121555-219005 03-12 12:25\napril-onprem-05\ndemo-vm-03\nrohit-rhel-6-9\nDeprecated april-04 03-02 23:25\nmetadata_ubuntu_vm1\nubuntu_base_template\ndemo-vm-04\ntemplate-centos7-onpremscript\n"
     ]
    },
    {
     "name": "stdout",
     "output_type": "stream",
     "text": [
      "april-onprem-01\ndemo-vm-02\napril-static-02\ncentos7-onprem-template\nRubrik_Managed_autotest-prem--20200314-161727-975678 03-14 16:33\nubuntu_4gb_template\napril-onprem-11\n"
     ]
    },
    {
     "name": "stdout",
     "output_type": "stream",
     "text": [
      "autotest-prem--20200312-190041-728495\napril-06-test 03-04 11:07\napril-08-test 03-11 03:11\nRubrik_Managed_autotest-prem--20200306-121741-816320 03-07 15:30\nRubrik_Managed_april-05 02-27 15:47\nautotest-prem--20200305-113701-524545\nRubrik_Managed_koki-static-test 03-03 16:41\napril-02\nRubrik_Managed_april-08 03-10 17:22\nCdmToCdmRohitCentos6_10\n"
     ]
    },
    {
     "name": "stdout",
     "output_type": "stream",
     "text": [
      "Rubrik_Managed_april-06 03-09 23:50\ntest export april prod05\napril-onprem-08\ncurious george\nRubrik_Managed_april-05 03-09 23:49\nRubrik_Managed_april-onprem-03 02-14 14:22 02-14 14:55\nDeprecated april-04 03-03 01:08\nRubrik_Managed_autotest-prem--20200305-113701-524545 03-05 19:45\n_weijin_window_vm\napril-onprem-07\n"
     ]
    },
    {
     "name": "stdout",
     "output_type": "stream",
     "text": [
      "centos7-prem-template\nDeprecated _weijin_0301 03-03 21:38\ncentos7-tool-template\nRubrik_Managed_april-static-01 03-07 19:44\nRubrik_Managed_april-05 02-27 16:07\nDeprecated _weijin_03 02-23 05:36\nCdmToCdmRohitRhel6_7\nRubrik_Managed_april-05 02-27 15:47*\nDeprecated demo-vm-04 02-29 04:05\n"
     ]
    },
    {
     "name": "stdout",
     "output_type": "stream",
     "text": [
      "Rubrik_Managed_autotest-prem--20200310-111910-418623 03-10 11:45\nDeprecated demo-vm-06 03-02 19:44\ncentos7-postscript-template\nrohit_rhel_6_7\napril-onprem-03\napril-01\nDeprecated april-01 02-27 22:30\nhilary-test-vm\ncurious george*\n"
     ]
    }
   ],
   "source": [
    "\n",
    "vms = vcc.list_vms()\n",
    "print('find {} vms'.format(len(vms)))\n",
    "for vm in vms:\n",
    "    print(vm.name)\n"
   ]
  },
  {
   "cell_type": "code",
   "execution_count": 6,
   "metadata": {
    "collapsed": false
   },
   "outputs": [
    {
     "name": "stdout",
     "output_type": "stream",
     "text": [
      "Template found: april-onprem-04\n"
     ]
    }
   ],
   "source": [
    "\n",
    "vm = vcc.find_by_name(vsphere.VIM_VIRTUAL_MACHINE, 'april-onprem-04')\n",
    "\n",
    "template = vm\n",
    "if template:\n",
    "    print('Template found: {}'.format(template.name))\n",
    "else:\n",
    "    print(\"No template found\")\n"
   ]
  },
  {
   "cell_type": "code",
   "execution_count": 11,
   "metadata": {
    "collapsed": false
   },
   "outputs": [
    {
     "name": "stdout",
     "output_type": "stream",
     "text": [
      "Cloning VM to ...\n\t Data Center  : 'Colo-DC1'\n\t VM Folder    : 'vm'\n\t Resource Pool: 'Resources'\n\t Data store   : 'localstore'\n"
     ]
    },
    {
     "name": "stdout",
     "output_type": "stream",
     "text": [
      "VM '_weijin_0310_0' cloned!\n"
     ]
    }
   ],
   "source": [
    "for i in range(1):\n",
    "    vcc.clone_vm(template, \"_weijin_0310_{}\".format(i), ds_name='localstore')\n"
   ]
  },
  {
   "cell_type": "code",
   "execution_count": 47,
   "metadata": {
    "collapsed": false
   },
   "outputs": [
    {
     "name": "stdout",
     "output_type": "stream",
     "text": [
      "Deprecated prem-p0-20200408-230940-340952 04-09 07:04 poweredOff\nDeprecated prem-p0-20200407-141237-890995 04-08 23:21 poweredOff\nDeprecated prem-p0-20200408-230459-996360 04-09 07:04 poweredOff\nDeprecated demo-vm-07 04-08 23:44 poweredOff\n"
     ]
    }
   ],
   "source": [
    "vms = vcc.list_vms(\"Deprecated\")\n",
    "for vm in vms:\n",
    "    print(vm.name, vm.power_state)\n"
   ]
  },
  {
   "cell_type": "code",
   "execution_count": 48,
   "metadata": {
    "collapsed": false
   },
   "outputs": [
    {
     "name": "stdout",
     "output_type": "stream",
     "text": [
      "Destroying VM: Deprecated prem-p0-20200408-230940-340952 04-09 07:04\n"
     ]
    },
    {
     "name": "stdout",
     "output_type": "stream",
     "text": [
      "task status: success\nDestroying VM: Deprecated prem-p0-20200407-141237-890995 04-08 23:21\n"
     ]
    },
    {
     "name": "stdout",
     "output_type": "stream",
     "text": [
      "task status: success\nDestroying VM: Deprecated prem-p0-20200408-230459-996360 04-09 07:04\n"
     ]
    },
    {
     "name": "stdout",
     "output_type": "stream",
     "text": [
      "task status: success\nDestroying VM: Deprecated demo-vm-07 04-08 23:44\n"
     ]
    },
    {
     "name": "stdout",
     "output_type": "stream",
     "text": [
      "task status: success\n"
     ]
    }
   ],
   "source": [
    "for vm in vms:\n",
    "    if vm.power_state != 'poweredOff':\n",
    "        print(\"Powering off VM: %s\" % vm.name)\n",
    "        task = vm.data.PowerOffVM_Task()\n",
    "        vcc.wait_for_task(task)\n",
    "        print(\"task status: {}\".format(task.info.state))\n",
    "        \n",
    "    print(\"Destroying VM: %s\" % vm.name)\n",
    "    task = vm.data.Destroy_Task()\n",
    "    vcc.wait_for_task(task)\n",
    "    print(\"task status: {}\".format(task.info.state))\n",
    "\n"
   ]
  },
  {
   "cell_type": "code",
   "execution_count": 16,
   "metadata": {
    "collapsed": false
   },
   "outputs": [],
   "source": [
    "datastores = [ds for ds in vcc.list_datastores('rubrik_') if not ds.accessible]\n",
    "for ds in datastores:\n",
    "    print(ds.name)\n",
    "\n"
   ]
  },
  {
   "cell_type": "code",
   "execution_count": 7,
   "metadata": {
    "collapsed": false
   },
   "outputs": [
    {
     "name": "stdout",
     "output_type": "stream",
     "text": [
      "Deleting inaccessible dastastores with prefix \"rubrik_\" ...\n"
     ]
    },
    {
     "name": "stdout",
     "output_type": "stream",
     "text": [
      "Removed datastore rubrik_bb95d8b1e56947aeaa411d85e78c1a07 from host esx-5-216.colo.rubrik.com\n"
     ]
    },
    {
     "name": "stdout",
     "output_type": "stream",
     "text": [
      "Removed datastore rubrik_f8e14e75586b4141bccde387708e4937 from host esx-5-216.colo.rubrik.com\n"
     ]
    },
    {
     "name": "stdout",
     "output_type": "stream",
     "text": [
      "Removed datastore rubrik_0dfa72afe7634606a6559dffac85bb1f from host esx-5-216.colo.rubrik.com\n"
     ]
    }
   ],
   "source": [
    "print('Deleting inaccessible dastastores with prefix \\\"rubrik_\\\" ...')\n",
    "for ds in datastores:\n",
    "    ds_name = ds.name\n",
    "    for h in ds.hosts:\n",
    "        for d in h.datastore:\n",
    "            if d._moId == ds.moid:\n",
    "                h.configManager.datastoreSystem.RemoveDatastore(ds.data)\n",
    "                print(\"Removed datastore {} from host {}\".format(\n",
    "                    ds_name, h.name\n",
    "                ))\n",
    "\n",
    "\n",
    "\n"
   ]
  },
  {
   "cell_type": "code",
   "execution_count": null,
   "metadata": {},
   "outputs": [],
   "source": []
  }
 ],
 "metadata": {
  "language_info": {
   "name": "python",
   "codemirror_mode": {
    "name": "ipython",
    "version": 3
   }
  },
  "orig_nbformat": 2.0,
  "file_extension": ".py",
  "mimetype": "text/x-python",
  "name": "python",
  "npconvert_exporter": "python",
  "pygments_lexer": "ipython3",
  "version": 3.0
 },
 "nbformat": 4,
 "nbformat_minor": 2
}
