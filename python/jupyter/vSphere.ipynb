{
 "cells": [
  {
   "cell_type": "markdown",
   "metadata": {},
   "source": [
    "Connect to vCenter Server\n",
    "===\n",
    "\n",
    "- Connect to vCenter\n",
    "- Load the content"
   ]
  },
  {
   "cell_type": "code",
   "execution_count": 3,
   "metadata": {
    "collapsed": true
   },
   "outputs": [
    {
     "name": "stdout",
     "output_type": "stream",
     "text": [
      "Loaded contents\nFind 85 vms\nFind 138 datastores\n"
     ]
    },
    {
     "name": "stdout",
     "output_type": "stream",
     "text": [
      "\t9 of them are accessible\nFind 1 hosts:\n\tesx-7-148.colo.rubrik.com\n"
     ]
    }
   ],
   "source": [
    "import config\n",
    "import vsphere_client\n",
    "from pyVmomi import vim\n",
    "\n",
    "# vc-39\n",
    "# vc-169\n",
    "conf = config.load_yml_conf(\n",
    "    '/Users/weijin.wang/ws/.secrets/appflows.yml', 'vc-169')\n",
    "\n",
    "vcc = vsphere_client.create_vsphere_connection(\n",
    "    hostname=conf['url'],\n",
    "    username=conf['username'],\n",
    "    password=conf['password']\n",
    ")\n",
    "content = vsphere_client.load_vsphere_contents(vcc)\n",
    "print('Loaded contents')\n",
    "\n",
    "_vms = vsphere_client.list_objects_by_type(content, [vim.VirtualMachine])\n",
    "print('Find {} vms'.format(len(_vms)))\n",
    "\n",
    "_datastores = vsphere_client.list_objects_by_type(content, [vim.Datastore])\n",
    "print('Find {} datastores'.format(len(_datastores)))\n",
    "_accessible_datastores = [ds for ds in _datastores if ds.summary.accessible]\n",
    "print('\\t{} of them are accessible'.format(len(_accessible_datastores)))\n",
    "\n",
    "_hosts = vsphere_client.list_objects_by_type(content, [vim.ComputeResource])\n",
    "print('Find {} hosts:'.format(len(_hosts)))\n",
    "for host in _hosts:\n",
    "    print('\\t{}'.format(host.name))\n",
    "\n"
   ]
  },
  {
   "cell_type": "code",
   "execution_count": 4,
   "metadata": {
    "collapsed": true
   },
   "outputs": [
    {
     "name": "stdout",
     "output_type": "stream",
     "text": [
      "find 85 vms\nRubrik_Managed_autotest-prem--20200310-114022-121564 03-10 11:54\nRubrik_Managed_autotest-prem--20200310-111910-418623 03-10 11:45\nRubrik_Managed_autotest-prem--20200313-225232-336744 03-13 23:04\nRubrik_Managed_autotest-prem--20200312-155133-771679 03-12 16:05\nRubrik_Managed_autotest-prem--20200312-121555-219005 03-12 12:25\napril-07\nRubrik_Managed_april-06 02-28 14:49\napril-static-03\n"
     ]
    },
    {
     "name": "stdout",
     "output_type": "stream",
     "text": [
      "Centos6-7-2disk\napril-win-01\napril-onprem-10\nDeprecated demo-vm-03 02-29 04:05\nautotest-prem--20200310-111910-418623-test 03-13 17:10\nDeprecated april-06 02-28 22:28\nDeprecated april-03 02-27 23:11\nrohit-centos-6-10-2disk\nautotest-prem--20200305-173708-385643\napril-static-04\nRubrik_Managed_april-onprem-02 02-14 14:32 02-14 16:52\n"
     ]
    },
    {
     "name": "stdout",
     "output_type": "stream",
     "text": [
      "april-onprem-04\napril-onprem-09\napril-onprem-06\napril-cent7-nocloudinit\nDeprecated april-onprem-02 02-27 22:59\nhilary-2-test-vm\nwin_server_2012r2_20gb_4mem_1cpu\nrohit-rhel-6-10-2disks\n"
     ]
    },
    {
     "name": "stdout",
     "output_type": "stream",
     "text": [
      "april-03\nDeprecated demo-vm-05 03-02 19:44\nRubrik_Managed_april-onprem-02 02-20 11:51 02-22 21:03\nCentos-7-0-template\ndemo-vm-01\napril-onprem-02\napril-static-01\napril-onprem-05\ndemo-vm-03\nrohit-rhel-6-9\nDeprecated april-04 03-02 23:25\nmetadata_ubuntu_vm1\n"
     ]
    },
    {
     "name": "stdout",
     "output_type": "stream",
     "text": [
      "ubuntu_base_template\ndemo-vm-04\ntemplate-centos7-onpremscript\napril-onprem-01\ndemo-vm-02\napril-static-02\ncentos7-onprem-template\nubuntu_4gb_template\napril-onprem-11\nautotest-prem--20200312-190041-728495\napril-06-test 03-04 11:07\napril-08-test 03-11 03:11\n"
     ]
    },
    {
     "name": "stdout",
     "output_type": "stream",
     "text": [
      "Rubrik_Managed_autotest-prem--20200306-121741-816320 03-07 15:30\nRubrik_Managed_april-05 02-27 15:47\nautotest-prem--20200305-113701-524545\nRubrik_Managed_koki-static-test 03-03 16:41\napril-02\nRubrik_Managed_april-08 03-10 17:22\nCdmToCdmRohitCentos6_10\nRubrik_Managed_april-06 03-09 23:50\ntest export april prod05\napril-onprem-08\ncurious george\n"
     ]
    },
    {
     "name": "stdout",
     "output_type": "stream",
     "text": [
      "Rubrik_Managed_april-05 03-09 23:49\nRubrik_Managed_april-onprem-03 02-14 14:22 02-14 14:55\nDeprecated april-04 03-03 01:08\nRubrik_Managed_autotest-prem--20200305-113701-524545 03-05 19:45\n_weijin_window_vm\napril-onprem-07\ncentos7-prem-template\nDeprecated _weijin_0301 03-03 21:38\ncentos7-tool-template\n"
     ]
    },
    {
     "name": "stdout",
     "output_type": "stream",
     "text": [
      "Rubrik_Managed_april-static-01 03-07 19:44\nRubrik_Managed_april-05 02-27 16:07\nDeprecated _weijin_03 02-23 05:36\nCdmToCdmRohitRhel6_7\nRubrik_Managed_april-05 02-27 15:47*\nDeprecated demo-vm-04 02-29 04:05\n"
     ]
    },
    {
     "name": "stdout",
     "output_type": "stream",
     "text": [
      "Deprecated demo-vm-06 03-02 19:44\ncentos7-postscript-template\nrohit_rhel_6_7\napril-onprem-03\napril-01\nDeprecated april-01 02-27 22:30\nhilary-test-vm\ncurious george*\n"
     ]
    }
   ],
   "source": [
    "\n",
    "vms = vsphere_client.list_objects_by_type(content, [vim.VirtualMachine])\n",
    "print('find {} vms'.format(len(vms)))\n",
    "for vm in vms:\n",
    "    print(vm.name)\n"
   ]
  },
  {
   "cell_type": "code",
   "execution_count": 16,
   "metadata": {},
   "outputs": [
    {
     "name": "stdout",
     "output_type": "stream",
     "text": [
      "Template found: april-05\n"
     ]
    }
   ],
   "source": [
    "\n",
    "vm = vsphere_client.get_obj_by_name(\n",
    "    content, [vim.VirtualMachine], 'april-05')\n",
    "\n",
    "template = vm\n",
    "if template:\n",
    "    print('Template found: {}'.format(template.name))\n",
    "else:\n",
    "    print(\"No template found\")\n"
   ]
  },
  {
   "cell_type": "code",
   "execution_count": 19,
   "metadata": {
    "collapsed": true
   },
   "outputs": [
    {
     "name": "stdout",
     "output_type": "stream",
     "text": [
      "Cloning VM to ...\n\t Data Center  : 'blueprint'\n\t VM Folder    : 'vm'\n\t Resource Pool: 'Resources'\n\t Data store   : 'datastore1'\n"
     ]
    },
    {
     "name": "stdout",
     "output_type": "stream",
     "text": [
      "VM '_weijin_0310_2' cloned!\n"
     ]
    },
    {
     "name": "stdout",
     "output_type": "stream",
     "text": [
      "Cloning VM to ...\n\t Data Center  : 'blueprint'\n\t VM Folder    : 'vm'\n\t Resource Pool: 'Resources'\n\t Data store   : 'datastore1'\n"
     ]
    },
    {
     "name": "stdout",
     "output_type": "stream",
     "text": [
      "VM '_weijin_0310_3' cloned!\n"
     ]
    },
    {
     "name": "stdout",
     "output_type": "stream",
     "text": [
      "Cloning VM to ...\n\t Data Center  : 'blueprint'\n\t VM Folder    : 'vm'\n\t Resource Pool: 'Resources'\n\t Data store   : 'datastore1'\n"
     ]
    },
    {
     "name": "stdout",
     "output_type": "stream",
     "text": [
      "VM '_weijin_0310_4' cloned!\n"
     ]
    },
    {
     "name": "stdout",
     "output_type": "stream",
     "text": [
      "Cloning VM to ...\n\t Data Center  : 'blueprint'\n\t VM Folder    : 'vm'\n\t Resource Pool: 'Resources'\n\t Data store   : 'datastore1'\n"
     ]
    },
    {
     "name": "stdout",
     "output_type": "stream",
     "text": [
      "VM '_weijin_0310_5' cloned!\n"
     ]
    },
    {
     "name": "stdout",
     "output_type": "stream",
     "text": [
      "Cloning VM to ...\n\t Data Center  : 'blueprint'\n"
     ]
    },
    {
     "name": "stdout",
     "output_type": "stream",
     "text": [
      "\t VM Folder    : 'vm'\n\t Resource Pool: 'Resources'\n\t Data store   : 'datastore1'\n"
     ]
    },
    {
     "name": "stdout",
     "output_type": "stream",
     "text": [
      "VM '_weijin_0310_6' cloned!\n"
     ]
    }
   ],
   "source": [
    "for i in range(5):\n",
    "    vsphere_client.clone_vm(content, template, \"_weijin_0310_{}\".format(i+2))"
   ]
  },
  {
   "cell_type": "code",
   "execution_count": 22,
   "metadata": {
    "collapsed": true
   },
   "outputs": [
    {
     "name": "stdout",
     "output_type": "stream",
     "text": [
      "_weijin_0310_6\n_weijin_0310_5\n_weijin_0310_4\n_weijin_0310_2\n_weijin_0310_1\n_weijin_0310_3\n"
     ]
    }
   ],
   "source": [
    "vms = vsphere_client.filter_vms_by_name(content, \"_weijin\")\n",
    "for vm in vms:\n",
    "    print(vm.name)\n"
   ]
  },
  {
   "cell_type": "code",
   "execution_count": 9,
   "metadata": {
    "collapsed": true
   },
   "outputs": [
    {
     "name": "stdout",
     "output_type": "stream",
     "text": [
      "_weijin_0310_6\n_weijin_0310_5\n_weijin_0310_4\n_weijin_0310_2\n_weijin_0310_1\n_weijin_0310_3\n"
     ]
    }
   ],
   "source": [
    "for vm in vms:\n",
    "    print(\"Powering off VM: %s\" % vm.name)\n",
    "    task = vm.PowerOffVM_Task()\n",
    "    vsphere_client.wait_for_task(task)\n",
    "    print(\"task status: {}\".format(task.info.state))\n",
    "        \n",
    "    print(\"Destroying VM: %s\" % vm.name)\n",
    "    task = vm.Destroy_Task()\n",
    "    vsphere_client.wait_for_task(task)\n",
    "    print(\"task status: {}\".format(task.info.state))\n",
    "\n"
   ]
  },
  {
   "cell_type": "code",
   "execution_count": null,
   "metadata": {},
   "outputs": [],
   "source": []
  }
 ],
 "metadata": {
  "language_info": {
   "name": "python",
   "codemirror_mode": {
    "name": "ipython",
    "version": 3
   }
  },
  "orig_nbformat": 2.0,
  "file_extension": ".py",
  "mimetype": "text/x-python",
  "name": "python",
  "npconvert_exporter": "python",
  "pygments_lexer": "ipython3",
  "version": 3.0
 },
 "nbformat": 4,
 "nbformat_minor": 2
}
