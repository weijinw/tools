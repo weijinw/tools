{
 "cells": [
  {
   "cell_type": "code",
   "execution_count": 93,
   "metadata": {
    "collapsed": false
   },
   "outputs": [],
   "source": [
    "import subprocess\n",
    "import requests\n",
    "requests.packages.urllib3.disable_warnings() \n",
    "\n",
    "host = '10.0.118.224'\n",
    "\n",
    "ssh = subprocess.Popen(\n",
    "    [\"ssh\", \n",
    "     '-i {}'.format('/Users/weijin.wang/ws/sdmain/deployment/ssh_keys/ubuntu.pem'),\n",
    "     'ubuntu@{}'.format(host), \n",
    "     '/opt/rubrik/src/scripts/dev/get_local_spray_token.py --username spark$'],\n",
    "    shell=False,\n",
    "    stdout=subprocess.PIPE,\n",
    "    stderr=subprocess.PIPE)\n",
    "result = ssh.stdout.readlines()\n",
    "if not result:\n",
    "    error = ssh.stderr.readlines()\n",
    "    print(error)\n",
    "else:\n",
    "    print(ssh.stdout, result)\n",
    "\n",
    "auth_token = result[0].strip()\n"
   ]
  },
  {
   "cell_type": "code",
   "execution_count": 97,
   "metadata": {
    "collapsed": false
   },
   "outputs": [
    {
     "name": "stdout",
     "output_type": "stream",
     "text": [
      "Found 0 blueprints\n"
     ]
    }
   ],
   "source": [
    "#print('token {}'.format(auth_token))\n",
    "\n",
    "rsp = requests.get(\n",
    "    'https://10.0.118.224/api/internal/app_blueprint', \n",
    "    headers={\"Authorization\": \"Bearer {}\".format(auth_token)},\n",
    "    verify=False)\n",
    "\n",
    "blueprints = []\n",
    "if rsp.status_code == 200:\n",
    "    content_json = rsp.json()\n",
    "    #print(content_json)\n",
    "    for bp in content_json['data']:\n",
    "        #print(bp)\n",
    "        if not bp['isRelic'] and bp['primaryClusterId'] == '4f66ee92-6e7e-4c2c-a3db-a0b128eab32a':\n",
    "            print(bp['id'], bp['name'], bp['primaryClusterId'])\n",
    "            blueprints.append(bp['id'])\n",
    "\n",
    "print('Found {} blueprints'.format(len(blueprints)))\n",
    "\n"
   ]
  },
  {
   "cell_type": "code",
   "execution_count": 51,
   "metadata": {
    "collapsed": false
   },
   "outputs": [
    {
     "name": "stdout",
     "output_type": "stream",
     "text": [
      "<Response [204]>\n"
     ]
    },
    {
     "name": "stdout",
     "output_type": "stream",
     "text": [
      "<Response [204]>\n"
     ]
    },
    {
     "name": "stdout",
     "output_type": "stream",
     "text": [
      "<Response [204]>\n"
     ]
    },
    {
     "name": "stdout",
     "output_type": "stream",
     "text": [
      "<Response [204]>\n"
     ]
    },
    {
     "name": "stdout",
     "output_type": "stream",
     "text": [
      "<Response [204]>\n"
     ]
    },
    {
     "name": "stdout",
     "output_type": "stream",
     "text": [
      "<Response [204]>\n"
     ]
    },
    {
     "name": "stdout",
     "output_type": "stream",
     "text": [
      "<Response [204]>\n"
     ]
    }
   ],
   "source": [
    "# delete\n",
    "if len(blueprints) != 0:\n",
    "    for bp_id in blueprints:\n",
    "        rsp = requests.delete(\n",
    "            'https://10.0.118.224/api/internal/polaris/app_blueprint/' + bp_id, \n",
    "            headers={\"Authorization\": \"Bearer {}\".format(auth_token)},\n",
    "            verify=False)\n",
    "        print(rsp)\n",
    "\n"
   ]
  },
  {
   "cell_type": "code",
   "execution_count": null,
   "metadata": {},
   "outputs": [],
   "source": []
  }
 ],
 "metadata": {
  "kernelspec": {
   "display_name": "Python 2",
   "language": "python",
   "name": "python2"
  },
  "language_info": {
   "codemirror_mode": {
    "name": "ipython",
    "version": 2
   },
   "file_extension": ".py",
   "mimetype": "text/x-python",
   "name": "python",
   "nbconvert_exporter": "python",
   "pygments_lexer": "ipython2",
   "version": "2.7.6"
  }
 },
 "nbformat": 4,
 "nbformat_minor": 0
}
