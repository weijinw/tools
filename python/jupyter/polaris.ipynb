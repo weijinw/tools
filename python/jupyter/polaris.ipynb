{
 "cells": [
  {
   "cell_type": "code",
   "execution_count": 6,
   "metadata": {
    "collapsed": false
   },
   "outputs": [
    {
     "name": "stdout",
     "output_type": "stream",
     "text": [
      "Initializing ...\n"
     ]
    },
    {
     "name": "stdout",
     "output_type": "stream",
     "text": [
      "Initialized in 9.14 seconds\n"
     ]
    }
   ],
   "source": [
    "import time\n",
    "\n",
    "from gql import gql\n",
    "\n",
    "import config\n",
    "import appflows\n",
    "\n",
    "\n",
    "conf = config.load_yml_conf('', 'dev-066')\n",
    "\n",
    "print(\"Initializing ...\")\n",
    "now = time.monotonic()\n",
    "client = appflows.create_gql_client(conf)\n",
    "print('Initialized in {:.2f} seconds'.format(time.monotonic() - now))\n",
    "\n"
   ]
  },
  {
   "cell_type": "code",
   "execution_count": 7,
   "metadata": {
    "collapsed": false
   },
   "outputs": [
    {
     "name": "stdout",
     "output_type": "stream",
     "text": [
      "7 blueprints found\n\t119a0d57-e59c-43ce-b4e6-12b28d2d65ec bryan-wordpress-basic\n\t41d9186f-a742-4d24-89fa-dd4db369d8e6 siyuan-test-deprecation 10-08 06:48 10-08 23:10\n\t504cd0d7-586c-490d-aed2-290743130502 Deprecated _weijin_c70_101\n\t57195727-37d1-4d70-b263-c99f9deb18ca SimpleApp-1vm-ready\n\tb45d2a34-a05c-4c63-88c0-5fc727bda3b8 siyuan-failover\n\td99aa307-ccc5-4aa9-89bf-68f3fe775069 SimpleApp-1vm-on-1501-rt\n\tefedc14c-3704-4278-8bfc-188c41e2511d DD\n"
     ]
    }
   ],
   "source": [
    "query = '''\n",
    "query{\n",
    "    blueprintConnection {\n",
    "        count\n",
    "        edges {\n",
    "            node {\n",
    "                id\n",
    "                name\n",
    "            }\n",
    "        }\n",
    "    }\n",
    "}\n",
    "'''\n",
    "res = client.execute(gql(query))\n",
    "blueprints = res[\"blueprintConnection\"][\"edges\"]\n",
    "print('{} blueprints found'.format(res[\"blueprintConnection\"]['count']))\n",
    "for bp_node in blueprints:\n",
    "    bp = bp_node[\"node\"]\n",
    "    print(\"\\t{} {}\".format(bp[\"id\"], bp[\"name\"]))\n"
   ]
  },
  {
   "cell_type": "code",
   "execution_count": null,
   "metadata": {},
   "outputs": [],
   "source": []
  }
 ],
 "metadata": {
  "kernelspec": {
   "display_name": "Python 2",
   "language": "python",
   "name": "python2"
  },
  "language_info": {
   "codemirror_mode": {
    "name": "ipython",
    "version": 2
   },
   "file_extension": ".py",
   "mimetype": "text/x-python",
   "name": "python",
   "nbconvert_exporter": "python",
   "pygments_lexer": "ipython2",
   "version": "2.7.6"
  }
 },
 "nbformat": 4,
 "nbformat_minor": 0
}
